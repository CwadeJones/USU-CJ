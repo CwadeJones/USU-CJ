{
 "cells": [
  {
   "cell_type": "code",
   "execution_count": 1,
   "metadata": {},
   "outputs": [],
   "source": [
    "import numpy as np"
   ]
  },
  {
   "cell_type": "markdown",
   "metadata": {},
   "source": [
    "### 10.1"
   ]
  },
  {
   "cell_type": "raw",
   "metadata": {},
   "source": [
    "Let S=100, K=105, r=8%, T=.5, delta=0, u=1.3, d=.8, and n=1.\n",
    "    A) What is the premium, delta, and beta for a European Call?\n",
    "    B) What is the premium, delta, and beta for a European Put?"
   ]
  },
  {
   "cell_type": "code",
   "execution_count": 2,
   "metadata": {},
   "outputs": [],
   "source": [
    "T = 0.5\n",
    "n = 1\n",
    "d = .8\n",
    "S = 100\n",
    "r = 0.08\n",
    "K = 105\n",
    "u = 1.3\n",
    "delta = 0\n",
    "\n",
    "h = T/n\n",
    "Sd = d*S\n",
    "Su = u*S\n",
    "Cu = np.maximum(0, Su - K)\n",
    "Cd = np.maximum(0, Sd - K)\n",
    "Deltacall = (np.exp(-delta*h))*(Cu-Cd)/(S*(u-d))\n",
    "Bcall = (np.exp(-r*h))*(u*Cd - d*Cu)/(u-d)\n",
    "CallOptionCost = (Deltacall*S) + Bcall\n",
    "\n",
    "h = T/n\n",
    "Sd = d*S\n",
    "Su = u*S\n",
    "Cu = np.maximum(0, K - Su)\n",
    "Cd = np.maximum(0, K - Sd)\n",
    "Deltaput = (np.exp(-delta*h))*(Cu-Cd)/(S*(u-d))\n",
    "Bput = (np.exp(-r*h))*(u*Cd - d*Cu)/(u-d)\n",
    "PutOptionCost = (Deltaput*S) + Bput"
   ]
  },
  {
   "cell_type": "code",
   "execution_count": 8,
   "metadata": {},
   "outputs": [
    {
     "name": "stdout",
     "output_type": "stream",
     "text": [
      "The premium for the Euro Call is 11.57\n",
      "Delta for the Euro Call is 0.5\n",
      "The Beta for the Euro Call is -38.43\n",
      "The premium for the Euro Put is 12.45\n",
      "Delta for the Euro Put is -0.5\n",
      "The Beta for the Euro Put is 62.45\n"
     ]
    }
   ],
   "source": [
    "print(\"The premium for the Euro Call is\" , round(CallOptionCost,2))\n",
    "print(\"Delta for the Euro Call is\" , round(Deltacall,2))\n",
    "print(\"The Beta for the Euro Call is\" , round(Bcall,2))\n",
    "\n",
    "print(\"The premium for the Euro Put is\" , round(PutOptionCost,2))\n",
    "print(\"Delta for the Euro Put is\" , round(Deltaput,2))\n",
    "print(\"The Beta for the Euro Put is\" , round(Bput,2))"
   ]
  },
  {
   "cell_type": "markdown",
   "metadata": {},
   "source": [
    "### 10.2 - 10.3"
   ]
  },
  {
   "cell_type": "code",
   "execution_count": 9,
   "metadata": {},
   "outputs": [],
   "source": [
    "def callpricer(S,K,r,T,delta,u,d,n,obprice):\n",
    "    h = T/n\n",
    "    Sd = d*S\n",
    "    Su = u*S\n",
    "    Cu = np.maximum(0, Su - K)\n",
    "    Cd = np.maximum(0, Sd - K)\n",
    "    Deltacall = (np.exp(-delta*h))*(Cu-Cd)/(S*(u-d))\n",
    "    Bcall = (np.exp(-r*h))*(u*Cd - d*Cu)/(u-d)\n",
    "    CallOptionCost = (Deltacall*S) + Bcall\n",
    "    arb = CallOptionCost-obprice\n",
    "    return print(round(CallOptionCost,3),\",\",round(arb,3))\n",
    "\n",
    "\n",
    "def putpricer(S,K,r,T,delta,u,d,n,obprice):\n",
    "    h = T/n\n",
    "    Sd = d*S\n",
    "    Su = u*S\n",
    "    Cu = np.maximum(0, K - Su)\n",
    "    Cd = np.maximum(0, K - Sd)\n",
    "    Deltaput = (np.exp(-delta*h))*(Cu-Cd)/(S*(u-d))\n",
    "    Bput = (np.exp(-r*h))*(u*Cd - d*Cu)/(u-d)\n",
    "    PutOptionCost = (Deltaput*S) + Bput\n",
    "    arb = PutOptionCost-obprice\n",
    "    return print(round(PutOptionCost,3),\",\",round(arb,3))\n",
    "    "
   ]
  },
  {
   "cell_type": "raw",
   "metadata": {},
   "source": [
    "Let S = $100, K=$95, r=8%, T = 0.5, delta = 0, u=1.3, d=0.8, and n=1.\n",
    "    A) Verify the price of the European Call is $16.196.\n",
    "    B) Suppose you observe a call price of 17, what is the arbitrage?\n",
    "    C) Suppose you observe a call price of 15.5, what is the arbitrage?"
   ]
  },
  {
   "cell_type": "code",
   "execution_count": 16,
   "metadata": {},
   "outputs": [
    {
     "name": "stdout",
     "output_type": "stream",
     "text": [
      "16.196 , -0.804\n"
     ]
    }
   ],
   "source": [
    "callpricer(100,95,.08,.5,0,1.3,.8,1,17)"
   ]
  },
  {
   "cell_type": "raw",
   "metadata": {},
   "source": [
    "At the price of 17, there is not any arbitrage.  There is a negative 80 cent difference betweem the market equillibrium and the observed price.  We need to choose to either short the holding, or hold the equivalent portfolio."
   ]
  },
  {
   "cell_type": "code",
   "execution_count": 11,
   "metadata": {},
   "outputs": [
    {
     "name": "stdout",
     "output_type": "stream",
     "text": [
      "16.196 , 0.696\n"
     ]
    }
   ],
   "source": [
    "callpricer(100,95,.08,.5,0,1.3,.8,1,15.5)"
   ]
  },
  {
   "cell_type": "raw",
   "metadata": {},
   "source": [
    "In this instance, of a 15.5 price, there is nearly 70 cents of arbitrage.  This is positive for us as the purchaser as we can buy it at a discount to its rational price."
   ]
  },
  {
   "cell_type": "raw",
   "metadata": {},
   "source": [
    "Let S = $100, K=$95, r=8%, T = 0.5, delta = 0, u=1.3, d=0.8, and n=1.\n",
    "    A) Verify the price of the European put is $7.471\n",
    "    B) Suppose you observe a put price of $8, what is the arbitrage?\n",
    "    C) Suppose you observe a put price of $6, what is the arbitrage?"
   ]
  },
  {
   "cell_type": "code",
   "execution_count": 15,
   "metadata": {},
   "outputs": [
    {
     "name": "stdout",
     "output_type": "stream",
     "text": [
      "7.471 , -0.529\n"
     ]
    }
   ],
   "source": [
    "putpricer(100,95,.08,.5,0,1.3,.8,1,8)"
   ]
  },
  {
   "cell_type": "raw",
   "metadata": {},
   "source": [
    "At a price of 8, there is negative arbitrage, indicating that a hold at the equivalent portfolio or a short would benefit you most."
   ]
  },
  {
   "cell_type": "code",
   "execution_count": 13,
   "metadata": {},
   "outputs": [
    {
     "name": "stdout",
     "output_type": "stream",
     "text": [
      "7.471 , 1.471\n"
     ]
    }
   ],
   "source": [
    "putpricer(100,95,.08,.5,0,1.3,.8,1,6)"
   ]
  },
  {
   "cell_type": "raw",
   "metadata": {},
   "source": [
    "There is an arbitrage of 1.47 dollars when the price is 6.  The put is cheaper in reality than it should be.  This is a solid buy."
   ]
  }
 ],
 "metadata": {
  "kernelspec": {
   "display_name": "Python 3",
   "language": "python",
   "name": "python3"
  },
  "language_info": {
   "codemirror_mode": {
    "name": "ipython",
    "version": 3
   },
   "file_extension": ".py",
   "mimetype": "text/x-python",
   "name": "python",
   "nbconvert_exporter": "python",
   "pygments_lexer": "ipython3",
   "version": "3.8.3"
  }
 },
 "nbformat": 4,
 "nbformat_minor": 4
}
