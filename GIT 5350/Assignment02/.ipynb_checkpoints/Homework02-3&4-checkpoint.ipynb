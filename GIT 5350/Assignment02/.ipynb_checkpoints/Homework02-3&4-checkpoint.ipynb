{
 "cells": [
  {
   "cell_type": "markdown",
   "metadata": {},
   "source": [
    "#### Assignment 02"
   ]
  },
  {
   "cell_type": "markdown",
   "metadata": {},
   "source": [
    "## Bond Pricing/Yield Model"
   ]
  },
  {
   "cell_type": "code",
   "execution_count": 50,
   "metadata": {},
   "outputs": [],
   "source": [
    "import numpy as np"
   ]
  },
  {
   "cell_type": "code",
   "execution_count": 51,
   "metadata": {},
   "outputs": [],
   "source": [
    "def bond_factory(face: float, coupon_rate: float, frequency: int, maturity: int) -> np.ndarray:\n",
    "    the_bond = np.full(maturity * frequency, (coupon_rate  * face) / frequency)\n",
    "    the_bond[-1] += face\n",
    "    return the_bond"
   ]
  },
  {
   "cell_type": "code",
   "execution_count": 52,
   "metadata": {},
   "outputs": [],
   "source": [
    "def bond_price(rate: float, the_bond: np.ndarray) -> float:\n",
    "    disc = np.array([1.0 / ((1.0 + rate) ** i) for i in range(1, the_bond.shape[0] + 1)])\n",
    "    return np.sum(disc * the_bond)"
   ]
  },
  {
   "cell_type": "code",
   "execution_count": 53,
   "metadata": {},
   "outputs": [],
   "source": [
    "def bond_yield(target_price: float, the_bond: np.ndarray) -> float:\n",
    "    lower = 0.0\n",
    "    upper = 1.0\n",
    "    guess = 0.5 * (lower + upper)\n",
    "    tolerance = 10.0 ** .8\n",
    "    diff = target_price - bond_price(guess, the_bond)\n",
    "    tries = 0\n",
    "    while abs(diff) >= tolerance:\n",
    "        if diff <= 0.0:\n",
    "            lower = guess\n",
    "        else:\n",
    "            upper = guess\n",
    "        guess = 0.5 * (lower + upper)\n",
    "        diff = target_price - bond_price(guess, the_bond)\n",
    "        \n",
    "    return guess"
   ]
  },
  {
   "cell_type": "code",
   "execution_count": 54,
   "metadata": {},
   "outputs": [],
   "source": [
    "face = 1000.0\n",
    "coupon_rate = 0.08\n",
    "maturity = 6\n",
    "frequency = 2"
   ]
  },
  {
   "cell_type": "code",
   "execution_count": 55,
   "metadata": {},
   "outputs": [],
   "source": [
    "a_bond = bond_factory(face, coupon_rate, frequency, maturity)"
   ]
  },
  {
   "cell_type": "code",
   "execution_count": 56,
   "metadata": {},
   "outputs": [
    {
     "data": {
      "text/plain": [
       "array([  40.,   40.,   40.,   40.,   40.,   40.,   40.,   40.,   40.,\n",
       "         40.,   40., 1040.])"
      ]
     },
     "execution_count": 56,
     "metadata": {},
     "output_type": "execute_result"
    }
   ],
   "source": [
    "a_bond"
   ]
  },
  {
   "cell_type": "code",
   "execution_count": 57,
   "metadata": {},
   "outputs": [
    {
     "data": {
      "text/plain": [
       "0.099609375"
      ]
     },
     "execution_count": 57,
     "metadata": {},
     "output_type": "execute_result"
    }
   ],
   "source": [
    "bond_yield(target_price, a_bond) * 2"
   ]
  },
  {
   "cell_type": "markdown",
   "metadata": {},
   "source": [
    "### Linear Model"
   ]
  },
  {
   "cell_type": "code",
   "execution_count": 26,
   "metadata": {},
   "outputs": [
    {
     "name": "stdout",
     "output_type": "stream",
     "text": [
      "1 0.001 1464.9721429348724\n",
      "2 0.002 1450.1269156807718\n",
      "3 0.003 1435.4618613454772\n",
      "4 0.004 1420.9745588439075\n",
      "5 0.005 1406.6626223385758\n",
      "6 0.006 1392.523700689308\n",
      "7 0.007 1378.5554769121636\n",
      "8 0.008 1364.755667647295\n",
      "9 0.009000000000000001 1351.1220226356895\n",
      "10 0.010000000000000002 1337.652324204539\n",
      "11 0.011000000000000003 1324.3443867611788\n",
      "12 0.012000000000000004 1311.196056295357\n",
      "13 0.013000000000000005 1298.2052098897739\n",
      "14 0.014000000000000005 1285.3697552386602\n",
      "15 0.015000000000000006 1272.6876301743425\n",
      "16 0.016000000000000007 1260.1568022015651\n",
      "17 0.017000000000000008 1247.7752680395222\n",
      "18 0.01800000000000001 1235.54105317138\n",
      "19 0.01900000000000001 1223.4522114012423\n",
      "20 0.02000000000000001 1211.5068244183435\n",
      "21 0.02100000000000001 1199.7030013684334\n",
      "22 0.022000000000000013 1188.0388784321374\n",
      "23 0.023000000000000013 1176.5126184102598\n",
      "24 0.024000000000000014 1165.1224103158238\n",
      "25 0.025000000000000015 1153.8664689728162\n",
      "26 0.026000000000000016 1142.743034621437\n",
      "27 0.027000000000000017 1131.7503725298222\n",
      "28 0.028000000000000018 1120.88677261205\n",
      "29 0.02900000000000002 1110.1505490523996\n",
      "30 0.03000000000000002 1099.5400399356754\n",
      "31 0.03100000000000002 1089.0536068835709\n",
      "32 0.03200000000000002 1078.6896346968938\n",
      "33 0.03300000000000002 1068.4465310036212\n",
      "34 0.03400000000000002 1058.322725912617\n",
      "35 0.035000000000000024 1048.3166716729825\n",
      "36 0.036000000000000025 1038.4268423388746\n",
      "37 0.037000000000000026 1028.6517334397681\n",
      "38 0.03800000000000003 1018.9898616559957\n",
      "39 0.03900000000000003 1009.4397644995533\n",
      "40 0.04000000000000003 999.9999999999998\n",
      "41 0.04100000000000003 990.669146395444\n",
      "42 0.04200000000000003 981.4458018284581\n",
      "43 0.04300000000000003 972.3285840469005\n",
      "44 0.04400000000000003 963.3161301095022\n",
      "45 0.04500000000000003 954.4070960961974\n",
      "46 0.046000000000000034 945.6001568230561\n",
      "47 0.047000000000000035 936.8940055618016\n",
      "48 0.048000000000000036 928.2873537637731\n",
      "49 0.04900000000000004 919.7789307883238\n"
     ]
    }
   ],
   "source": [
    "guess_rate = 0.001\n",
    "guess_price = bond_price(guess_rate, a_bond)\n",
    "tries = 0\n",
    "target_price = 911.37\n",
    "diff = target_price - guess_price\n",
    "tolerance = 10.0 ** .3\n",
    "\n",
    "while True:\n",
    "    if abs(diff) <= tolerance:\n",
    "        break\n",
    "    else:\n",
    "        tries += 1\n",
    "        print(tries, guess_rate, guess_price)\n",
    "        guess_rate += 0.001\n",
    "        guess_price = bond_price(guess_rate, a_bond)\n",
    "        diff = target_price - guess_price"
   ]
  },
  {
   "cell_type": "code",
   "execution_count": 58,
   "metadata": {},
   "outputs": [
    {
     "data": {
      "text/plain": [
       "0.10000000000000007"
      ]
     },
     "execution_count": 58,
     "metadata": {},
     "output_type": "execute_result"
    }
   ],
   "source": [
    "guess_rate * 2"
   ]
  },
  {
   "cell_type": "code",
   "execution_count": 59,
   "metadata": {},
   "outputs": [
    {
     "data": {
      "text/plain": [
       "911.3674836355117"
      ]
     },
     "execution_count": 59,
     "metadata": {},
     "output_type": "execute_result"
    }
   ],
   "source": [
    "guess_price"
   ]
  }
 ],
 "metadata": {
  "kernelspec": {
   "display_name": "Python 3",
   "language": "python",
   "name": "python3"
  },
  "language_info": {
   "codemirror_mode": {
    "name": "ipython",
    "version": 3
   },
   "file_extension": ".py",
   "mimetype": "text/x-python",
   "name": "python",
   "nbconvert_exporter": "python",
   "pygments_lexer": "ipython3",
   "version": "3.8.3"
  }
 },
 "nbformat": 4,
 "nbformat_minor": 4
}
