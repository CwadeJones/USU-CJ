{
 "cells": [
  {
   "cell_type": "markdown",
   "metadata": {},
   "source": [
    "#### Assignment 02"
   ]
  },
  {
   "cell_type": "markdown",
   "metadata": {},
   "source": [
    "## Nuggets Problem"
   ]
  },
  {
   "cell_type": "code",
   "execution_count": null,
   "metadata": {},
   "outputs": [],
   "source": [
    "def is_nugget_number(candidate: int, sizes) -> bool:\n",
    "    SMALL = sizes['S']\n",
    "    MEDIUM = sizes['M']\n",
    "    LARGE = sizes['L']\n",
    "    for a in range(candidate//SMALL +1):\n",
    "        for b in range(candidate//MEDIUM +1):\n",
    "            for c in range(candidate//LARGE + 1):\n",
    "                if candidate == a * SMALL + b * MEDIUM + c * LARGE:\n",
    "                    return True\n",
    "    return False\n",
    "\n",
    "def main():\n",
    "    sizes = {'S' : 6, 'M' : 9, 'L' : 20}\n",
    "    count = 0\n",
    "    largest = 0\n",
    "    candidate = sizes['S']\n",
    "\n",
    "    while count < sizes['S']:\n",
    "        if is_nugget_number(candidate, sizes):\n",
    "            count += 1\n",
    "        else:\n",
    "            largest = candidate\n",
    "            count = 0\n",
    "        candidate += 1\n",
    "        \n",
    "    print(f\"The largest number that you cannot get is: {largest}\")\n",
    "    \n",
    "if __name__ == \"__main__\":\n",
    "    main()"
   ]
  },
  {
   "cell_type": "markdown",
   "metadata": {},
   "source": [
    "## Number Guessing Game"
   ]
  },
  {
   "cell_type": "code",
   "execution_count": null,
   "metadata": {},
   "outputs": [],
   "source": [
    "def main():\n",
    "    low = 0\n",
    "    high = 101\n",
    "    \n",
    "    print(\"Think of a number between 1 and 100\")\n",
    "    \n",
    "    print(\"When you are ready,\"\n",
    "          \"let me know and I will attempt to guess your number.\")\n",
    "    input(\"\\nEnter anything and I will begin: \")\n",
    "    \n",
    "    def valid_input():\n",
    "        while True:\n",
    "            reply = input(\"\\nEnter 'low', 'high', or 'correct'.  \")\n",
    "            if reply in ('low', 'high', 'correct'):\n",
    "                return reply\n",
    "            print(\"I do not understand what you wrote.\")\n",
    "            \n",
    "    while True:\n",
    "        guess = (low + high)//2\n",
    "        print(\"I am guessing {}\".format(guess))\n",
    "        reply = valid_input()\n",
    "        if reply == 'low':\n",
    "            low = guess\n",
    "        elif reply == 'high':\n",
    "            high = guess\n",
    "        else:\n",
    "            print(\"Thank you for playing!\")\n",
    "            break\n",
    "            \n",
    "        if low == high:\n",
    "            print(\"Impossible!\")\n",
    "            break\n",
    "    \n",
    "if __name__ == \"__main__\":\n",
    "    main()"
   ]
  }
 ],
 "metadata": {
  "kernelspec": {
   "display_name": "Python 3",
   "language": "python",
   "name": "python3"
  },
  "language_info": {
   "codemirror_mode": {
    "name": "ipython",
    "version": 3
   },
   "file_extension": ".py",
   "mimetype": "text/x-python",
   "name": "python",
   "nbconvert_exporter": "python",
   "pygments_lexer": "ipython3",
   "version": "3.8.3"
  }
 },
 "nbformat": 4,
 "nbformat_minor": 4
}
