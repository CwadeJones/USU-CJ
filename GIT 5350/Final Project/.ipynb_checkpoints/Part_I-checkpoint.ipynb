{
 "cells": [
  {
   "cell_type": "markdown",
   "metadata": {},
   "source": [
    "# Part 1: The European Binomial Option Pricing Model"
   ]
  },
  {
   "cell_type": "code",
   "execution_count": 2,
   "metadata": {},
   "outputs": [],
   "source": [
    "import numpy as np\n",
    "import options as opt\n",
    "import matplotlib.pyplot as plt\n",
    "from scipy.stats import norm, binom\n",
    "from typing import Callable\n",
    "import pandas as pd"
   ]
  },
  {
   "cell_type": "markdown",
   "metadata": {},
   "source": [
    "## Problem 1"
   ]
  },
  {
   "cell_type": "markdown",
   "metadata": {},
   "source": [
    "#### Section A"
   ]
  },
  {
   "cell_type": "raw",
   "metadata": {},
   "source": [
    "Please see options.py for Problem 1, Part A"
   ]
  },
  {
   "cell_type": "markdown",
   "metadata": {},
   "source": [
    "#### Section B"
   ]
  },
  {
   "cell_type": "code",
   "execution_count": 3,
   "metadata": {},
   "outputs": [],
   "source": [
    "spot = 100\n",
    "strike = 105\n",
    "expiry = 1\n",
    "rate = 0.08\n",
    "div = 0.0\n",
    "vol = 0.2\n",
    "num = 1"
   ]
  },
  {
   "cell_type": "code",
   "execution_count": 4,
   "metadata": {},
   "outputs": [
    {
     "name": "stdout",
     "output_type": "stream",
     "text": [
      "11.350062186067705\n",
      "8.277278556664449\n"
     ]
    }
   ],
   "source": [
    "european_call_price1 = opt.european_binomial_pricer(spot, strike, expiry, rate, div, vol, num, opt.call_payoff)\n",
    "print(european_call_price1)\n",
    "european_put_price1 = opt.european_binomial_pricer(spot, strike, expiry, rate, div, vol, num, opt.put_payoff)\n",
    "print(european_put_price1)"
   ]
  },
  {
   "cell_type": "markdown",
   "metadata": {},
   "source": [
    "#### Section C"
   ]
  },
  {
   "cell_type": "code",
   "execution_count": 5,
   "metadata": {},
   "outputs": [
    {
     "name": "stdout",
     "output_type": "stream",
     "text": [
      "10.044685209190389\n",
      "6.9719015797871595\n"
     ]
    }
   ],
   "source": [
    "num = 3\n",
    "european_call_price2 = opt.european_binomial_pricer(spot, strike, expiry, rate, div, vol, num, opt.call_payoff)\n",
    "print(european_call_price2)\n",
    "european_put_price2 = opt.european_binomial_pricer(spot, strike, expiry, rate, div, vol, num, opt.put_payoff)\n",
    "print(european_put_price2)"
   ]
  },
  {
   "cell_type": "markdown",
   "metadata": {},
   "source": [
    "#### Section D"
   ]
  },
  {
   "cell_type": "code",
   "execution_count": 6,
   "metadata": {},
   "outputs": [
    {
     "name": "stdout",
     "output_type": "stream",
     "text": [
      "9.471909781165479\n",
      "6.399126151760387\n"
     ]
    }
   ],
   "source": [
    "num = 200\n",
    "european_call_price3 = opt.european_binomial_pricer(spot, strike, expiry, rate, div, vol, num, opt.call_payoff)\n",
    "print(european_call_price3)\n",
    "european_put_price3 = opt.european_binomial_pricer(spot, strike, expiry, rate, div, vol, num, opt.put_payoff)\n",
    "print(european_put_price3)"
   ]
  },
  {
   "cell_type": "markdown",
   "metadata": {},
   "source": [
    "## Problem 2"
   ]
  },
  {
   "cell_type": "markdown",
   "metadata": {},
   "source": [
    "#### Section A"
   ]
  },
  {
   "cell_type": "code",
   "execution_count": 7,
   "metadata": {},
   "outputs": [
    {
     "name": "stdout",
     "output_type": "stream",
     "text": [
      "9.47455279837039\n",
      "6.401769168967142\n"
     ]
    }
   ],
   "source": [
    "european_bs_call = opt.black_scholes_call(spot,strike,expiry,rate,div,vol)\n",
    "print(european_bs_call)\n",
    "european_bs_put = opt.black_scholes_put(spot,strike,expiry,rate,div,vol)\n",
    "print(european_bs_put)"
   ]
  },
  {
   "cell_type": "markdown",
   "metadata": {},
   "source": [
    "#### Section B"
   ]
  },
  {
   "cell_type": "code",
   "execution_count": 8,
   "metadata": {},
   "outputs": [
    {
     "name": "stdout",
     "output_type": "stream",
     "text": [
      "     Call Premium  Black Shcoles Call  Put Premium  Black Scholes Put\n",
      "20       9.551546            9.474553     6.478762           6.401769\n",
      "40       9.522373            9.474553     6.449590           6.401769\n",
      "60       9.503781            9.474553     6.430997           6.401769\n",
      "80       9.491053            9.474553     6.418269           6.401769\n",
      "100      9.481664            9.474553     6.408881           6.401769\n",
      "120      9.474370            9.474553     6.401586           6.401769\n",
      "140      9.468488            9.474553     6.395704           6.401769\n",
      "160      9.463611            9.474553     6.390827           6.401769\n",
      "180      9.467510            9.474553     6.394726           6.401769\n",
      "200      9.471910            9.474553     6.399126           6.401769\n"
     ]
    }
   ],
   "source": [
    "num_steps = [num for num in range(20,201,20)]\n",
    "call_premium = []\n",
    "put_premium = []\n",
    "\n",
    "for num in range(20,201,20):\n",
    "    call_premium.append(opt.european_binomial_pricer(spot, strike, expiry, rate, div, vol, num, payoff=opt.call_payoff))\n",
    "    put_premium.append(opt.european_binomial_pricer(spot, strike, expiry, rate, div, vol, num, payoff=opt.put_payoff))\n",
    "\n",
    "table_two_b = pd.DataFrame({'Call Premium': call_premium, 'Black Shcoles Call': european_bs_call, 'Put Premium': put_premium, 'Black Scholes Put': european_bs_put}, index=num_steps)\n",
    "print(table_two_b)"
   ]
  }
 ],
 "metadata": {
  "kernelspec": {
   "display_name": "Python 3",
   "language": "python",
   "name": "python3"
  },
  "language_info": {
   "codemirror_mode": {
    "name": "ipython",
    "version": 3
   },
   "file_extension": ".py",
   "mimetype": "text/x-python",
   "name": "python",
   "nbconvert_exporter": "python",
   "pygments_lexer": "ipython3",
   "version": "3.8.3"
  }
 },
 "nbformat": 4,
 "nbformat_minor": 4
}
